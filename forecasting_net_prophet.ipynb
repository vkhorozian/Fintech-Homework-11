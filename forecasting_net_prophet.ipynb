{
  "cells": [
    {
      "cell_type": "markdown",
      "metadata": {
        "id": "view-in-github",
        "colab_type": "text"
      },
      "source": [
        "<a href=\"https://colab.research.google.com/github/vkhorozian/Fintech-Homework-11/blob/Google-CoLab-Branch/forecasting_net_prophet.ipynb\" target=\"_parent\"><img src=\"https://colab.research.google.com/assets/colab-badge.svg\" alt=\"Open In Colab\"/></a>"
      ]
    },
    {
      "cell_type": "markdown",
      "metadata": {
        "id": "pC3XrdrxVZXL"
      },
      "source": [
        "# Forecasting Net Prophet\n",
        "\n",
        "You’re a growth analyst at [MercadoLibre](http://investor.mercadolibre.com/investor-relations). With over 200 million users, MercadoLibre is the most popular e-commerce site in Latin America. You've been tasked with analyzing the company's financial and user data in clever ways to make the company grow. So, you want to find out if the ability to predict search traffic can translate into the ability to successfully trade the stock.\n",
        "\n",
        "Instructions\n",
        "\n",
        "This section divides the instructions for this Challenge into four steps and an optional fifth step, as follows:\n",
        "\n",
        "* Step 1: Find unusual patterns in hourly Google search traffic\n",
        "\n",
        "* Step 2: Mine the search traffic data for seasonality\n",
        "\n",
        "* Step 3: Relate the search traffic to stock price patterns\n",
        "\n",
        "* Step 4: Create a time series model with Prophet\n",
        "\n",
        "* Step 5 (optional): Forecast revenue by using time series models\n",
        "\n",
        "The following subsections detail these steps.\n",
        "\n",
        "## Step 1: Find Unusual Patterns in Hourly Google Search Traffic\n",
        "\n",
        "The data science manager asks if the Google search traffic for the company links to any financial events at the company. Or, does the search traffic data just present random noise? To answer this question, pick out any unusual patterns in the Google search data for the company, and connect them to the corporate financial events.\n",
        "\n",
        "To do so, complete the following steps:\n",
        "\n",
        "1. Read the search data into a DataFrame, and then slice the data to just the month of May 2020. (During this month, MercadoLibre released its quarterly financial results.) Use hvPlot to visualize the results. Do any unusual patterns exist?\n",
        "\n",
        "2. Calculate the total search traffic for the month, and then compare the value to the monthly median across all months. Did the Google search traffic increase during the month that MercadoLibre released its financial results?\n",
        "\n",
        "## Step 2: Mine the Search Traffic Data for Seasonality\n",
        "\n",
        "Marketing realizes that they can use the hourly search data, too. If they can track and predict interest in the company and its platform for any time of day, they can focus their marketing efforts around the times that have the most traffic. This will get a greater return on investment (ROI) from their marketing budget.\n",
        "\n",
        "To that end, you want to mine the search traffic data for predictable seasonal patterns of interest in the company. To do so, complete the following steps:\n",
        "\n",
        "1. Group the hourly search data to plot the average traffic by the day of the week (for example, Monday vs. Friday).\n",
        "\n",
        "2. Using hvPlot, visualize this traffic as a heatmap, referencing the `index.hour` as the x-axis and the `index.dayofweek` as the y-axis. Does any day-of-week effect that you observe concentrate in just a few hours of that day?\n",
        "\n",
        "3. Group the search data by the week of the year. Does the search traffic tend to increase during the winter holiday period (weeks 40 through 52)?\n",
        "\n",
        "## Step 3: Relate the Search Traffic to Stock Price Patterns\n",
        "\n",
        "You mention your work on the search traffic data during a meeting with people in the finance group at the company. They want to know if any relationship between the search data and the company stock price exists, and they ask if you can investigate.\n",
        "\n",
        "To do so, complete the following steps:\n",
        "\n",
        "1. Read in and plot the stock price data. Concatenate the stock price data to the search data in a single DataFrame.\n",
        "\n",
        "2. Market events emerged during the year of 2020 that many companies found difficult. But, after the initial shock to global financial markets, new customers and revenue increased for e-commerce platforms. Slice the data to just the first half of 2020 (`2020-01` to `2020-06` in the DataFrame), and then use hvPlot to plot the data. Do both time series indicate a common trend that’s consistent with this narrative?\n",
        "\n",
        "3. Create a new column in the DataFrame named “Lagged Search Trends” that offsets, or shifts, the search traffic by one hour. Create two additional columns:\n",
        "\n",
        "    * “Stock Volatility”, which holds an exponentially weighted four-hour rolling average of the company’s stock volatility\n",
        "\n",
        "    * “Hourly Stock Return”, which holds the percent change of the company's stock price on an hourly basis\n",
        "\n",
        "4. Review the time series correlation, and then answer the following question: Does a predictable relationship exist between the lagged search traffic and the stock volatility or between the lagged search traffic and the stock price returns?\n",
        "\n",
        "## Step 4: Create a Time Series Model with Prophet\n",
        "\n",
        "Now, you need to produce a time series model that analyzes and forecasts patterns in the hourly search data. To do so, complete the following steps:\n",
        "\n",
        "1. Set up the Google search data for a Prophet forecasting model.\n",
        "\n",
        "2. After estimating the model, plot the forecast. How's the near-term forecast for the popularity of MercadoLibre?\n",
        "\n",
        "3. Plot the individual time series components of the model to answer the following questions:\n",
        "\n",
        "    * What time of day exhibits the greatest popularity?\n",
        "\n",
        "    * Which day of the week gets the most search traffic?\n",
        "\n",
        "    * What's the lowest point for search traffic in the calendar year?\n",
        "\n",
        "## Step 5 (Optional): Forecast Revenue by Using Time Series Models\n",
        "\n",
        "A few weeks after your initial analysis, the finance group follows up to find out if you can help them solve a different problem. Your fame as a growth analyst in the company continues to grow!\n",
        "\n",
        "Specifically, the finance group wants a forecast of the total sales for the next quarter. This will dramatically increase their ability to plan budgets and to help guide expectations for the company investors.\n",
        "\n",
        "To do so, complete the following steps:\n",
        "\n",
        "1. Read in the daily historical sales (that is, revenue) figures, and then apply a Prophet model to the data.\n",
        "\n",
        "2. Interpret the model output to identify any seasonal patterns in the company's revenue. For example, what are the peak revenue days? (Mondays? Fridays? Something else?)\n",
        "\n",
        "3. Produce a sales forecast for the finance group. Give them a number for the expected total sales in the next quarter. Include the best- and worst-case scenarios to help them make better plans.\n"
      ]
    },
    {
      "cell_type": "markdown",
      "metadata": {
        "id": "NVvo2zj-VZXN"
      },
      "source": [
        "## Install and import the required libraries and dependencies"
      ]
    },
    {
      "cell_type": "code",
      "execution_count": null,
      "metadata": {
        "id": "9X78dXY1VZXO"
      },
      "outputs": [],
      "source": [
        "# Install the required libraries\n",
        "!pip install pystan\n",
        "!pip install prophet\n",
        "!pip install hvplot\n",
        "!pip install holoviews"
      ]
    },
    {
      "cell_type": "code",
      "execution_count": null,
      "metadata": {
        "id": "wFziCMi-VZXO"
      },
      "outputs": [],
      "source": [
        "# Import the required libraries and dependencies\n",
        "import pandas as pd\n",
        "import holoviews as hv\n",
        "from prophet import Prophet\n",
        "import hvplot.pandas\n",
        "import datetime as dt\n",
        "%matplotlib inline"
      ]
    },
    {
      "cell_type": "markdown",
      "metadata": {
        "id": "4ePJRUr7VZXO"
      },
      "source": [
        "## Step 1: Find Unusual Patterns in Hourly Google Search Traffic\n",
        "\n",
        "The data science manager asks if the Google search traffic for the company links to any financial events at the company. Or, does the search traffic data just present random noise? To answer this question, pick out any unusual patterns in the Google search data for the company, and connect them to the corporate financial events.\n",
        "\n",
        "To do so, complete the following steps:\n",
        "\n",
        "1. Read the search data into a DataFrame, and then slice the data to just the month of May 2020. (During this month, MercadoLibre released its quarterly financial results.) Use hvPlot to visualize the results. Do any unusual patterns exist?\n",
        "\n",
        "2. Calculate the total search traffic for the month, and then compare the value to the monthly median across all months. Did the Google search traffic increase during the month that MercadoLibre released its financial results?\n"
      ]
    },
    {
      "cell_type": "markdown",
      "metadata": {
        "id": "MgScgeALVZXP"
      },
      "source": [
        "#### Step 1: Read the search data into a DataFrame, and then slice the data to just the month of May 2020. (During this month, MercadoLibre released its quarterly financial results.) Use hvPlot to visualize the results. Do any unusual patterns exist?"
      ]
    },
    {
      "cell_type": "code",
      "execution_count": null,
      "metadata": {
        "id": "5HrvSatyVZXP"
      },
      "outputs": [],
      "source": [
        "# Upload the \"google_hourly_search_trends.csv\" file into Colab, then store in a Pandas DataFrame\n",
        "# Set the \"Date\" column as the Datetime Index.\n",
        "\n",
        "from google.colab import files\n",
        "uploaded = files.upload()\n",
        "\n",
        "df_mercado_trends = pd.read_csv('google_hourly_search_trends.csv', index_col='Date', infer_datetime_format=True, parse_dates=True)  \n",
        "\n",
        "# Review the first and last five rows of the DataFrame\n",
        "df_mercado_trends.head()\n"
      ]
    },
    {
      "cell_type": "code",
      "execution_count": null,
      "metadata": {
        "id": "KEcXuBJlVZXP"
      },
      "outputs": [],
      "source": [
        "# Review the data types of the DataFrame using the info function\n",
        "df_mercado_trends.info()\n"
      ]
    },
    {
      "cell_type": "code",
      "execution_count": null,
      "metadata": {
        "id": "MVVvfqOOVZXP"
      },
      "outputs": [],
      "source": [
        "# Holoviews extension to render hvPlots in Colab\n",
        "hv.extension('bokeh')\n",
        "\n",
        "# Slice the DataFrame to just the month of May 2020\n",
        "df_may_2020 = df_mercado_trends.loc['2020-05-01':'2020-05-31']\n",
        "\n",
        "# Use hvPlot to visualize the data for May 2020\n",
        "df_may_2020.hvplot()\n"
      ]
    },
    {
      "cell_type": "markdown",
      "metadata": {
        "id": "31_HuZjuVZXP"
      },
      "source": [
        "#### Step 2: Calculate the total search traffic for the month, and then compare the value to the monthly median across all months. Did the Google search traffic increase during the month that MercadoLibre released its financial results?"
      ]
    },
    {
      "cell_type": "code",
      "execution_count": null,
      "metadata": {
        "id": "ojjeMb8VVZXP"
      },
      "outputs": [],
      "source": [
        "# Calculate the sum of the total search traffic for May 2020\n",
        "traffic_may_2020 = df_may_2020.sum()\n",
        "\n",
        "# View the traffic_may_2020 value\n",
        "traffic_may_2020\n"
      ]
    },
    {
      "cell_type": "code",
      "execution_count": null,
      "metadata": {
        "id": "32Y-eqUzVZXQ"
      },
      "outputs": [],
      "source": [
        "# Calcluate the monhtly median search traffic across all months \n",
        "# Group the DataFrame by index year and then index month, chain the sum and then the median functions\n",
        "median_monthly_traffic = df_mercado_trends.groupby([df_mercado_trends.index.year, df_mercado_trends.index.month]).sum().median()\n",
        "\n",
        "# View the median_monthly_traffic value\n",
        "median_monthly_traffic\n"
      ]
    },
    {
      "cell_type": "code",
      "execution_count": null,
      "metadata": {
        "id": "qXsS6AC9VZXQ"
      },
      "outputs": [],
      "source": [
        "# Compare the seach traffic for the month of May 2020 to the overall monthly median value\n",
        "\n",
        "diff = traffic_may_2020 - median_monthly_traffic\n",
        "diff_percent = diff / median_monthly_traffic * 100\n",
        "\n",
        "display(diff)\n",
        "display(diff_percent)"
      ]
    },
    {
      "cell_type": "markdown",
      "metadata": {
        "id": "c6cuJGmPVZXQ"
      },
      "source": [
        "##### Answer the following question: "
      ]
    },
    {
      "cell_type": "markdown",
      "metadata": {
        "id": "gC4r1jEYVZXQ"
      },
      "source": [
        "**Question:** Did the Google search traffic increase during the month that MercadoLibre released its financial results?\n",
        "\n",
        "**Answer:** the Google search traffic increased during the month that MercadoLibre released its financial results."
      ]
    },
    {
      "cell_type": "markdown",
      "metadata": {
        "id": "39FRQ3SBVZXQ"
      },
      "source": [
        "## Step 2: Mine the Search Traffic Data for Seasonality\n",
        "\n",
        "Marketing realizes that they can use the hourly search data, too. If they can track and predict interest in the company and its platform for any time of day, they can focus their marketing efforts around the times that have the most traffic. This will get a greater return on investment (ROI) from their marketing budget.\n",
        "\n",
        "To that end, you want to mine the search traffic data for predictable seasonal patterns of interest in the company. To do so, complete the following steps:\n",
        "\n",
        "1. Group the hourly search data to plot the average traffic by the day of the week (for example, Monday vs. Friday).\n",
        "\n",
        "2. Using hvPlot, visualize this traffic as a heatmap, referencing the `index.hour` as the x-axis and the `index.dayofweek` as the y-axis. Does any day-of-week effect that you observe concentrate in just a few hours of that day?\n",
        "\n",
        "3. Group the search data by the week of the year. Does the search traffic tend to increase during the winter holiday period (weeks 40 through 52)?\n"
      ]
    },
    {
      "cell_type": "markdown",
      "metadata": {
        "id": "fwzOAhW-VZXQ"
      },
      "source": [
        "#### Step 1: Group the hourly search data to plot the average traffic by the day of the week (for example, Monday vs. Friday)."
      ]
    },
    {
      "cell_type": "code",
      "execution_count": null,
      "metadata": {
        "id": "rcQrWhsmVZXQ"
      },
      "outputs": [],
      "source": [
        "# Holoviews extension to render hvPlots in Colab\n",
        "hv.extension('bokeh')\n",
        "\n",
        "# Group the hourly search data to plot (use hvPlot) the average traffic by the day of week \n",
        "\n",
        "avg_traffic_dow = df_mercado_trends.groupby(df_mercado_trends.index.dayofweek).mean()\n",
        "\n",
        "avg_traffic_dow.hvplot()\n",
        "\n"
      ]
    },
    {
      "cell_type": "markdown",
      "metadata": {
        "id": "qSOUaGlzVZXQ"
      },
      "source": [
        "#### Step 2: Using hvPlot, visualize this traffic as a heatmap, referencing the `index.hour` as the x-axis and the `index.dayofweek` as the y-axis. Does any day-of-week effect that you observe concentrate in just a few hours of that day?"
      ]
    },
    {
      "cell_type": "code",
      "execution_count": null,
      "metadata": {
        "id": "tjOqFREpVZXR"
      },
      "outputs": [],
      "source": [
        "# Holoviews extension to render hvPlots in Colab\n",
        "hv.extension('bokeh')\n",
        "\n",
        "# Use hvPlot to visualize the hour of the day and day of week search traffic as a heatmap.\n",
        "# Hint: Use the groupby function to group the data by the index hour and index day of week\n",
        "\n",
        "df_mercado_trends.hvplot.heatmap(x='index.hour',\n",
        "                                 y='index.dayofweek',\n",
        "                                 C='Search Trends',\n",
        "                                 xlabel='Hour of Day',\n",
        "                                 ylabel='Day of Week',\n",
        "                                 cmap='reds',\n",
        "                                 height=500,\n",
        "                                 width=500\n",
        "                                 )"
      ]
    },
    {
      "cell_type": "markdown",
      "metadata": {
        "id": "DDSHyQFrVZXR"
      },
      "source": [
        "##### Answer the following question:"
      ]
    },
    {
      "cell_type": "markdown",
      "metadata": {
        "id": "rMU3D1QkVZXR"
      },
      "source": [
        "**Question:** Does any day-of-week effect that you observe concentrate in just a few hours of that day?\n",
        "\n",
        "**Answer:** Yes, the day-of-week effect that I observe concentrates in just a few hours of that day. The 10pm and 2am time slots seem to be very active."
      ]
    },
    {
      "cell_type": "markdown",
      "metadata": {
        "id": "X3N8uTK4VZXR"
      },
      "source": [
        "#### Step 3: Group the search data by the week of the year. Does the search traffic tend to increase during the winter holiday period (weeks 40 through 52)?"
      ]
    },
    {
      "cell_type": "code",
      "execution_count": null,
      "metadata": {
        "id": "JYXjP9mDVZXR"
      },
      "outputs": [],
      "source": [
        "# Holoviews extension to render hvPlots in Colab\n",
        "hv.extension('bokeh')\n",
        "\n",
        "# Group the hourly search data to plot (use hvPlot) the average traffic by the week of the year\n",
        "avg_traffic_WoY = df_mercado_trends.groupby(df_mercado_trends.index.weekofyear).mean()\n",
        "\n",
        "avg_traffic_dow.hvplot()"
      ]
    },
    {
      "cell_type": "markdown",
      "metadata": {
        "id": "bQBL33sAVZXR"
      },
      "source": [
        "##### Answer the following question:"
      ]
    },
    {
      "cell_type": "markdown",
      "metadata": {
        "id": "GUlCcQLzVZXR"
      },
      "source": [
        "**Question:** Does the search traffic tend to increase during the winter holiday period (weeks 40 through 52)?\n",
        "\n",
        "**Answer:** The search traffic tends to increase during the winter holiday period (weeks 40 through 52)."
      ]
    },
    {
      "cell_type": "markdown",
      "metadata": {
        "id": "lDlxMTItVZXR"
      },
      "source": [
        "## Step 3: Relate the Search Traffic to Stock Price Patterns\n",
        "\n",
        "You mention your work on the search traffic data during a meeting with people in the finance group at the company. They want to know if any relationship between the search data and the company stock price exists, and they ask if you can investigate.\n",
        "\n",
        "To do so, complete the following steps:\n",
        "\n",
        "1. Read in and plot the stock price data. Concatenate the stock price data to the search data in a single DataFrame.\n",
        "\n",
        "2. Market events emerged during the year of 2020 that many companies found difficult. But, after the initial shock to global financial markets, new customers and revenue increased for e-commerce platforms. Slice the data to just the first half of 2020 (`2020-01` to `2020-06` in the DataFrame), and then use hvPlot to plot the data. Do both time series indicate a common trend that’s consistent with this narrative?\n",
        "\n",
        "3. Create a new column in the DataFrame named “Lagged Search Trends” that offsets, or shifts, the search traffic by one hour. Create two additional columns:\n",
        "\n",
        "    * “Stock Volatility”, which holds an exponentially weighted four-hour rolling average of the company’s stock volatility\n",
        "\n",
        "    * “Hourly Stock Return”, which holds the percent change of the company's stock price on an hourly basis\n",
        "\n",
        "4. Review the time series correlation, and then answer the following question: Does a predictable relationship exist between the lagged search traffic and the stock volatility or between the lagged search traffic and the stock price returns?\n"
      ]
    },
    {
      "cell_type": "markdown",
      "metadata": {
        "id": "Ocuyr0kkVZXS"
      },
      "source": [
        "#### Step 1: Read in and plot the stock price data. Concatenate the stock price data to the search data in a single DataFrame."
      ]
    },
    {
      "cell_type": "code",
      "execution_count": null,
      "metadata": {
        "id": "BF9ZfkI_VZXS"
      },
      "outputs": [],
      "source": [
        "# Upload the \"mercado_stock_price.csv\" file into Colab, then store in a Pandas DataFrame\n",
        "# Set the \"date\" column as the Datetime Index.\n",
        "from google.colab import files\n",
        "uploaded = files.upload()\n",
        "\n",
        "df_mercado_stock = pd.read_csv('mercado_stock_price.csv', index_col='date', infer_datetime_format=True, parse_dates=True)\n",
        "\n",
        "# View the first and last five rows of the DataFrame\n",
        "df_mercado_stock.head()\n"
      ]
    },
    {
      "cell_type": "code",
      "execution_count": null,
      "metadata": {
        "id": "Qy96AW0hVZXS"
      },
      "outputs": [],
      "source": [
        "# Holoviews extension to render hvPlots in Colab\n",
        "hv.extension('bokeh')\n",
        "\n",
        "# Use hvPlot to visualize the closing price of the df_mercado_stock DataFrame\n",
        "df_mercado_stock.hvplot.line(x='date',\n",
        "                             y='close',\n",
        "                             xlabel='Date',\n",
        "                             ylabel='Closing Price',\n",
        "                             rot=90,\n",
        "                             height=500,\n",
        "                             width=1000\n",
        "                             ) "
      ]
    },
    {
      "cell_type": "code",
      "execution_count": null,
      "metadata": {
        "id": "0Nmx8MFAVZXS"
      },
      "outputs": [],
      "source": [
        "# Concatenate the df_mercado_stock DataFrame with the df_mercado_trends DataFrame\n",
        "# Concatenate the DataFrame by columns (axis=1), and drop and rows with only one column of data\n",
        "mercado_stock_trends_df = pd.concat([df_mercado_stock, df_mercado_trends], axis=1).dropna()\n",
        "\n",
        "# View the first and last five rows of the DataFrame\n",
        "mercado_stock_trends_df.head()\n"
      ]
    },
    {
      "cell_type": "markdown",
      "metadata": {
        "id": "umIJ0KB3VZXS"
      },
      "source": [
        "#### Step 2: Market events emerged during the year of 2020 that many companies found difficult. But, after the initial shock to global financial markets, new customers and revenue increased for e-commerce platforms. Slice the data to just the first half of 2020 (`2020-01` to `2020-06` in the DataFrame), and then use hvPlot to plot the data. Do both time series indicate a common trend that’s consistent with this narrative?"
      ]
    },
    {
      "cell_type": "code",
      "execution_count": null,
      "metadata": {
        "id": "qc5a7fTJVZXS"
      },
      "outputs": [],
      "source": [
        "# For the combined dataframe, slice to just the first half of 2020 (2020-01 through 2020-06) \n",
        "first_half_2020 = mercado_stock_trends_df.loc['2020-01-01':'2020-06-30']\n",
        "\n",
        "# View the first and last five rows of first_half_2020 DataFrame\n",
        "first_half_2020.head()\n"
      ]
    },
    {
      "cell_type": "code",
      "execution_count": null,
      "metadata": {
        "id": "YWQSv252VZXS"
      },
      "outputs": [],
      "source": [
        "# Holoviews extension to render hvPlots in Colab\n",
        "hv.extension('bokeh')\n",
        "\n",
        "# Use hvPlot to visualize the close and Search Trends data\n",
        "# Plot each column on a separate axes using the following syntax\n",
        "# `hvplot(shared_axes=False, subplots=True).cols(1)`\n",
        "first_half_2020.hvplot(shared_axes=False, subplots=True).cols(1)\n",
        "\n"
      ]
    },
    {
      "cell_type": "markdown",
      "metadata": {
        "id": "hQuo_y09VZXS"
      },
      "source": [
        "##### Answer the following question:"
      ]
    },
    {
      "cell_type": "markdown",
      "metadata": {
        "id": "Smd14FwsVZXS"
      },
      "source": [
        " **Question:** Do both time series indicate a common trend that’s consistent with this narrative?\n",
        "\n",
        "**Answer:** Yes, closing price dropped and their was a decrease in search traffic in March 2020. After March 2020, the closing price increased and their was an increase in search traffic. "
      ]
    },
    {
      "cell_type": "markdown",
      "metadata": {
        "id": "G-ngE91dVZXT"
      },
      "source": [
        "#### Step 3: Create a new column in the DataFrame named “Lagged Search Trends” that offsets, or shifts, the search traffic by one hour. Create two additional columns:\n",
        "\n",
        "* “Stock Volatility”, which holds an exponentially weighted four-hour rolling average of the company’s stock volatility\n",
        "\n",
        "* “Hourly Stock Return”, which holds the percent change of the company's stock price on an hourly basis\n"
      ]
    },
    {
      "cell_type": "code",
      "execution_count": null,
      "metadata": {
        "id": "SzP1jOZlVZXT"
      },
      "outputs": [],
      "source": [
        "# Create a new column in the mercado_stock_trends_df DataFrame called Lagged Search Trends\n",
        "# This column should shift the Search Trends information by one hour\n",
        "mercado_stock_trends_df['Lagged Search Trends'] = mercado_stock_trends_df['Search Trends'].shift(1)\n"
      ]
    },
    {
      "cell_type": "code",
      "execution_count": null,
      "metadata": {
        "id": "xb0tALWpVZXT"
      },
      "outputs": [],
      "source": [
        "# Create a new column in the mercado_stock_trends_df DataFrame called Stock Volatility\n",
        "# This column should calculate the standard deviation of the closing stock price return data over a 4 period rolling window\n",
        "mercado_stock_trends_df['Stock Volatility'] = mercado_stock_trends_df['close'].pct_change().rolling(window=4).std()\n"
      ]
    },
    {
      "cell_type": "code",
      "execution_count": null,
      "metadata": {
        "id": "NwwAs7BlVZXT"
      },
      "outputs": [],
      "source": [
        "# Holoviews extension to render hvPlots in Colab\n",
        "hv.extension('bokeh')\n",
        "\n",
        "# Use hvPlot to visualize the stock volatility\n",
        "mercado_stock_trends_df['Stock Volatility'].hvplot()\n"
      ]
    },
    {
      "cell_type": "markdown",
      "metadata": {
        "id": "qEZpxCWsVZXU"
      },
      "source": [
        "**Solution Note:** Note how volatility spiked, and tended to stay high, during the first half of 2020. This is a common characteristic of volatility in stock returns worldwide: high volatility days tend to be followed by yet more high volatility days. When it rains, it pours."
      ]
    },
    {
      "cell_type": "code",
      "execution_count": null,
      "metadata": {
        "id": "h4179w0JVZXU"
      },
      "outputs": [],
      "source": [
        "# Create a new column in the mercado_stock_trends_df DataFrame called Hourly Stock Return\n",
        "# This column should calculate hourly return percentage of the closing price\n",
        "mercado_stock_trends_df['Hourly Stock Return'] = mercado_stock_trends_df['close'].pct_change()\n"
      ]
    },
    {
      "cell_type": "code",
      "execution_count": null,
      "metadata": {
        "id": "zIoperBXVZXU"
      },
      "outputs": [],
      "source": [
        "# View the first and last five rows of the mercado_stock_trends_df DataFrame\n",
        "mercado_stock_trends_df.head()\n"
      ]
    },
    {
      "cell_type": "markdown",
      "metadata": {
        "id": "De1VcTf8VZXU"
      },
      "source": [
        "#### Step 4: Review the time series correlation, and then answer the following question: Does a predictable relationship exist between the lagged search traffic and the stock volatility or between the lagged search traffic and the stock price returns?"
      ]
    },
    {
      "cell_type": "code",
      "execution_count": null,
      "metadata": {
        "id": "7asoBMnSVZXV"
      },
      "outputs": [],
      "source": [
        "# Construct correlation table of Stock Volatility, Lagged Search Trends, and Hourly Stock Return\n",
        "mercado_stock_trends_df[['Stock Volatility', 'Lagged Search Trends', 'Hourly Stock Return']].corr()\n"
      ]
    },
    {
      "cell_type": "markdown",
      "metadata": {
        "id": "r1SS42ruVZXV"
      },
      "source": [
        "##### Answer the following question:\n"
      ]
    },
    {
      "cell_type": "markdown",
      "metadata": {
        "id": "xIG63gzQVZXV"
      },
      "source": [
        "**Question:** Does a predictable relationship exist between the lagged search traffic and the stock volatility or between the lagged search traffic and the stock price returns?\n",
        "\n",
        "**Answer:** Yes, a predictable relationship exists between the lagged search traffic and the stock volatility or between the lagged search traffic and the stock price returns."
      ]
    },
    {
      "cell_type": "markdown",
      "metadata": {
        "id": "XOPQvPNJVZXV"
      },
      "source": [
        "## Step 4: Create a Time Series Model with Prophet\n",
        "\n",
        "Now, you need to produce a time series model that analyzes and forecasts patterns in the hourly search data. To do so, complete the following steps:\n",
        "\n",
        "1. Set up the Google search data for a Prophet forecasting model.\n",
        "\n",
        "2. After estimating the model, plot the forecast. How's the near-term forecast for the popularity of MercadoLibre?\n",
        "\n",
        "3. Plot the individual time series components of the model to answer the following questions:\n",
        "\n",
        "    * What time of day exhibits the greatest popularity?\n",
        "\n",
        "    * Which day of the week gets the most search traffic?\n",
        "\n",
        "    * What's the lowest point for search traffic in the calendar year?\n"
      ]
    },
    {
      "cell_type": "markdown",
      "metadata": {
        "id": "FAbnE8pLVZXV"
      },
      "source": [
        "#### Step 1: Set up the Google search data for a Prophet forecasting model."
      ]
    },
    {
      "cell_type": "code",
      "execution_count": null,
      "metadata": {
        "id": "QT1ViGosVZXV"
      },
      "outputs": [],
      "source": [
        "# Using the df_mercado_trends DataFrame, reset the index so the date information is no longer the index\n",
        "mercado_prophet_df = df_mercado_trends.reset_index()\n",
        "\n",
        "# Label the columns ds and y so that the syntax is recognized by Prophet\n",
        "mercado_prophet_df.columns = ['ds', 'y']\n",
        "\n",
        "# Drop an NaN values from the prophet_df DataFrame\n",
        "mercado_prophet_df = mercado_prophet_df.dropna()\n",
        "\n",
        "# View the first and last five rows of the mercado_prophet_df DataFrame\n",
        "mercado_prophet_df.head()\n"
      ]
    },
    {
      "cell_type": "code",
      "execution_count": null,
      "metadata": {
        "id": "PRbUvwN9VZXW"
      },
      "outputs": [],
      "source": [
        "# Call the Prophet function, store as an object\n",
        "model_mercado_trends = Prophet()\n"
      ]
    },
    {
      "cell_type": "code",
      "execution_count": null,
      "metadata": {
        "id": "FT7wJnDwVZXW"
      },
      "outputs": [],
      "source": [
        "# Fit the time-series model.\n",
        "model_mercado_trends.fit(mercado_prophet_df)\n"
      ]
    },
    {
      "cell_type": "code",
      "execution_count": null,
      "metadata": {
        "id": "eB-dZerEVZXW"
      },
      "outputs": [],
      "source": [
        "# Create a future dataframe to hold predictions\n",
        "# Make the prediction go out as far as 2000 hours (approx 80 days)\n",
        "future_mercado_trends = model_mercado_trends.make_future_dataframe(periods=2000, freq='H')\n",
        "\n",
        "# View the last five rows of the future_mercado_trends DataFrame\n",
        "future_mercado_trends.tail()\n"
      ]
    },
    {
      "cell_type": "code",
      "execution_count": null,
      "metadata": {
        "id": "01DFHLwrVZXW"
      },
      "outputs": [],
      "source": [
        "# Make the predictions for the trend data using the future_mercado_trends DataFrame\n",
        "forecast_mercado_trends = model_mercado_trends.predict(future_mercado_trends)\n",
        "\n",
        "# Display the first five rows of the forecast_mercado_trends DataFrame\n",
        "forecast_mercado_trends.head()\n"
      ]
    },
    {
      "cell_type": "markdown",
      "metadata": {
        "id": "wRiiYHgeVZXW"
      },
      "source": [
        "#### Step 2: After estimating the model, plot the forecast. How's the near-term forecast for the popularity of MercadoLibre?"
      ]
    },
    {
      "cell_type": "code",
      "execution_count": null,
      "metadata": {
        "id": "b7NTqP5UVZXW"
      },
      "outputs": [],
      "source": [
        "# Plot the Prophet predictions for the Mercado trends data\n",
        "model_mercado_trends.plot(forecast_mercado_trends)"
      ]
    },
    {
      "cell_type": "markdown",
      "metadata": {
        "id": "ee281thKVZXW"
      },
      "source": [
        "##### Answer the following question:"
      ]
    },
    {
      "cell_type": "markdown",
      "metadata": {
        "id": "xvLJJKXPVZXX"
      },
      "source": [
        "**Question:**  How's the near-term forecast for the popularity of MercadoLibre?\n",
        "\n",
        "**Answer:** The near-term forecast for the popularity of MercadoLibre is increasing.\n"
      ]
    },
    {
      "cell_type": "markdown",
      "metadata": {
        "id": "u6-MEOmHVZXX"
      },
      "source": [
        "#### Step 3: Plot the individual time series components of the model to answer the following questions:\n",
        "\n",
        "* What time of day exhibits the greatest popularity?\n",
        "\n",
        "* Which day of the week gets the most search traffic?\n",
        "\n",
        "* What's the lowest point for search traffic in the calendar year?\n"
      ]
    },
    {
      "cell_type": "code",
      "execution_count": null,
      "metadata": {
        "id": "5fLsC3D8VZXX"
      },
      "outputs": [],
      "source": [
        "# Set the index in the forecast_mercado_trends DataFrame to the ds datetime column\n",
        "forecast_mercado_trends = forecast_mercado_trends.set_index('ds')\n",
        "\n",
        "# View the only the yhat,yhat_lower and yhat_upper columns from the DataFrame\n",
        "forecast_mercado_trends[['yhat', 'yhat_lower', 'yhat_upper']].tail()\n"
      ]
    },
    {
      "cell_type": "markdown",
      "metadata": {
        "id": "N-lw1xB3VZXX"
      },
      "source": [
        "Solutions Note: `yhat` represents the most likely (average) forecast, whereas `yhat_lower` and `yhat_upper` represents the worst and best case prediction (based on what are known as 95% confidence intervals)."
      ]
    },
    {
      "cell_type": "code",
      "execution_count": null,
      "metadata": {
        "id": "V-OKnmptVZXX"
      },
      "outputs": [],
      "source": [
        "# Holoviews extension to render hvPlots in Colab\n",
        "hv.extension('bokeh')\n",
        "\n",
        "# From the forecast_mercado_trends DataFrame, use hvPlot to visualize\n",
        "#  the yhat, yhat_lower, and yhat_upper columns over the last 2000 hours \n",
        "forecast_mercado_trends[['yhat', 'yhat_lower', 'yhat_upper']].iloc[-2000:].hvplot()"
      ]
    },
    {
      "cell_type": "code",
      "execution_count": null,
      "metadata": {
        "id": "NPVrhoWvVZXY"
      },
      "outputs": [],
      "source": [
        "# Reset the index in the forecast_mercado_trends DataFrame\n",
        "forecast_mercado_trends = forecast_mercado_trends.reset_index()\n",
        "\n",
        "# Use the plot_components function to visualize the forecast results \n",
        "# for the forecast_canada DataFrame \n",
        "figures_mercado_trends = model_mercado_trends.plot_components(forecast_mercado_trends)\n"
      ]
    },
    {
      "cell_type": "markdown",
      "metadata": {
        "id": "emUVIgrNVZXY"
      },
      "source": [
        "##### Answer the following questions:"
      ]
    },
    {
      "cell_type": "markdown",
      "metadata": {
        "id": "MID9poG7VZXY"
      },
      "source": [
        "**Question:** What time of day exhibits the greatest popularity?\n",
        "\n",
        "**Answer:** The time of day that exhibits the greatest popularity is 12:00 PM."
      ]
    },
    {
      "cell_type": "markdown",
      "metadata": {
        "id": "RN_msAWLVZXY"
      },
      "source": [
        "**Question:** Which day of week gets the most search traffic? \n",
        "   \n",
        "**Answer:**  The day of the week that gets the most search traffic is Monday."
      ]
    },
    {
      "cell_type": "markdown",
      "metadata": {
        "id": "4CbTAe29VZXY"
      },
      "source": [
        "**Question:** What's the lowest point for search traffic in the calendar year?\n",
        "\n",
        "**Answer:** The lowest point for search traffic in the calendar year is December.\n"
      ]
    },
    {
      "cell_type": "markdown",
      "metadata": {
        "id": "ns-eGi3HVZXY"
      },
      "source": [
        "## Step 5 (Optional): Forecast Revenue by Using Time Series Models\n",
        "\n",
        "A few weeks after your initial analysis, the finance group follows up to find out if you can help them solve a different problem. Your fame as a growth analyst in the company continues to grow!\n",
        "\n",
        "Specifically, the finance group wants a forecast of the total sales for the next quarter. This will dramatically increase their ability to plan budgets and to help guide expectations for the company investors.\n",
        "\n",
        "To do so, complete the following steps:\n",
        "\n",
        "1. Read in the daily historical sales (that is, revenue) figures, and then apply a Prophet model to the data. The daily sales figures are quoted in millions of USD dollars.\n",
        "\n",
        "2. Interpret the model output to identify any seasonal patterns in the company's revenue. For example, what are the peak revenue days? (Mondays? Fridays? Something else?)\n",
        "\n",
        "3. Produce a sales forecast for the finance group. Give them a number for the expected total sales in the next quarter. Include the best- and worst-case scenarios to help them make better plans.\n",
        "\n",
        "\n"
      ]
    },
    {
      "cell_type": "markdown",
      "metadata": {
        "id": "KakJoPS6VZXY"
      },
      "source": [
        "#### Step 1: Read in the daily historical sales (that is, revenue) figures, and then apply a Prophet model to the data."
      ]
    },
    {
      "cell_type": "code",
      "execution_count": null,
      "metadata": {
        "id": "XXAmALNaVZXZ"
      },
      "outputs": [],
      "source": [
        "# Upload the \"mercado_daily_revenue.csv\" file into Colab, then store in a Pandas DataFrame\n",
        "# Set the \"date\" column as the DatetimeIndex\n",
        "# Sales are quoted in millions of US dollars\n",
        "from google.colab import files\n",
        "uploaded = files.upload()\n",
        "\n",
        "df_mercado_sales = pd.read_csv(\n",
        "    \"mercado_daily_revenue.csv\",\n",
        "    index_col=\"date\",\n",
        "    parse_dates=True,\n",
        "    infer_datetime_format=True\n",
        ")\n",
        "\n",
        "# Review the DataFrame\n",
        "df_mercado_stock.head()"
      ]
    },
    {
      "cell_type": "code",
      "execution_count": null,
      "metadata": {
        "id": "GoIStoTdVZXZ"
      },
      "outputs": [],
      "source": [
        "# Holoviews extension to render hvPlots in Colab\n",
        "hv.extension('bokeh')\n",
        "\n",
        "# Use hvPlot to visualize the daily sales figures \n",
        "df_mercado_sales.hvplot()\n",
        "\n"
      ]
    },
    {
      "cell_type": "code",
      "execution_count": null,
      "metadata": {
        "id": "SIadOlbJVZXZ"
      },
      "outputs": [],
      "source": [
        "# Apply a Facebook Prophet model to the data.\n",
        "\n",
        "# Set up the dataframe in the neccessary format:\n",
        "# Reset the index so that date becomes a column in the DataFrame\n",
        "mercado_sales_prophet_df = df_mercado_sales.reset_index()\n",
        "\n",
        "# Adjust the columns names to the Prophet syntax\n",
        "mercado_sales_prophet_df.columns = ['ds', 'y']\n",
        "\n",
        "# Visualize the DataFrame\n",
        "mercado_sales_prophet_df.head()\n"
      ]
    },
    {
      "cell_type": "code",
      "execution_count": null,
      "metadata": {
        "id": "6p7R9_-YVZXZ"
      },
      "outputs": [],
      "source": [
        "# Create the model\n",
        "mercado_sales_prophet_model = Prophet()\n",
        "\n",
        "# Fit the model\n",
        "mercado_sales_prophet_model.fit(mercado_sales_prophet_df)\n"
      ]
    },
    {
      "cell_type": "code",
      "execution_count": null,
      "metadata": {
        "id": "dZE4Pu2qVZXZ"
      },
      "outputs": [],
      "source": [
        "# Predict sales for 90 days (1 quarter) out into the future.\n",
        "\n",
        "# Start by making a future dataframe\n",
        "mercado_sales_prophet_future = mercado_sales_prophet_model.make_future_dataframe(periods=90, freq='D')\n",
        "\n",
        "# Display the last five rows of the future DataFrame\n",
        "mercado_sales_prophet_future.tail()\n"
      ]
    },
    {
      "cell_type": "code",
      "execution_count": null,
      "metadata": {
        "id": "kz3NdvFnVZXZ"
      },
      "outputs": [],
      "source": [
        "# Make predictions for the sales each day over the next quarter\n",
        "mercado_sales_prophet_forecast = mercado_sales_prophet_model.predict(mercado_sales_prophet_future)\n",
        "\n",
        "# Display the first 5 rows of the resulting DataFrame\n",
        "mercado_sales_prophet_forecast.head()\n"
      ]
    },
    {
      "cell_type": "markdown",
      "metadata": {
        "id": "DCh2nriEVZXa"
      },
      "source": [
        "#### Step 2: Interpret the model output to identify any seasonal patterns in the company's revenue. For example, what are the peak revenue days? (Mondays? Fridays? Something else?)"
      ]
    },
    {
      "cell_type": "code",
      "execution_count": null,
      "metadata": {
        "id": "xoyDZqbKVZXa"
      },
      "outputs": [],
      "source": [
        "# Use the plot_components function to analyze seasonal patterns in the company's revenue\n",
        "figures_mercado_trends = mercado_sales_prophet_model.plot_components(mercado_sales_prophet_forecast)\n"
      ]
    },
    {
      "cell_type": "markdown",
      "metadata": {
        "id": "u7zTreUbVZXa"
      },
      "source": [
        "##### Answer the following question:"
      ]
    },
    {
      "cell_type": "markdown",
      "metadata": {
        "id": "2g4W0IzWVZXa"
      },
      "source": [
        "**Question:** For example, what are the peak revenue days? (Mondays? Fridays? Something else?)\n",
        "\n",
        "**Answer:** Yes Wednesday is the peak revenue day.\n"
      ]
    }
  ],
  "metadata": {
    "kernelspec": {
      "display_name": "Python 3 (ipykernel)",
      "language": "python",
      "name": "python3"
    },
    "language_info": {
      "codemirror_mode": {
        "name": "ipython",
        "version": 3
      },
      "file_extension": ".py",
      "mimetype": "text/x-python",
      "name": "python",
      "nbconvert_exporter": "python",
      "pygments_lexer": "ipython3",
      "version": "3.10.11"
    },
    "colab": {
      "provenance": [],
      "include_colab_link": true
    }
  },
  "nbformat": 4,
  "nbformat_minor": 0
}